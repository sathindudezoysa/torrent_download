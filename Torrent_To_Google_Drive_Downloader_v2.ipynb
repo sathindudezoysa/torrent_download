{
  "nbformat": 4,
  "nbformat_minor": 0,
  "metadata": {
    "colab": {
      "name": "Torrent To Google Drive Downloader v2",
      "provenance": [],
      "include_colab_link": true
    },
    "kernelspec": {
      "name": "python3",
      "display_name": "Python 3"
    }
  },
  "cells": [
    {
      "cell_type": "markdown",
      "metadata": {
        "id": "view-in-github",
        "colab_type": "text"
      },
      "source": [
        "<a href=\"https://colab.research.google.com/github/sathindudezoysa/torrent_download/blob/main/Torrent_To_Google_Drive_Downloader_v2.ipynb\" target=\"_parent\"><img src=\"https://colab.research.google.com/assets/colab-badge.svg\" alt=\"Open In Colab\"/></a>"
      ]
    },
    {
      "cell_type": "markdown",
      "metadata": {
        "id": "aQuWDmfm9YOi"
      },
      "source": [
        "# Torrent To Google Drive Downloader v2"
      ]
    },
    {
      "cell_type": "markdown",
      "metadata": {
        "id": "Uf90U73y9YOj"
      },
      "source": [
        "### Mount Google Drive\n",
        "To stream files we need to mount Google Drive."
      ]
    },
    {
      "cell_type": "code",
      "metadata": {
        "id": "oWM9l2fvtuvO",
        "outputId": "f828086a-9583-4b2c-abd8-dfcb55460298",
        "colab": {
          "base_uri": "https://localhost:8080/"
        }
      },
      "source": [
        "from google.colab import drive\n",
        "drive.mount('/content/drive')"
      ],
      "execution_count": 3,
      "outputs": [
        {
          "output_type": "stream",
          "name": "stdout",
          "text": [
            "Drive already mounted at /content/drive; to attempt to forcibly remount, call drive.mount(\"/content/drive\", force_remount=True).\n"
          ]
        }
      ]
    },
    {
      "cell_type": "markdown",
      "metadata": {
        "id": "FexiyATtNwTG"
      },
      "source": [
        "###Dependency\n",
        "https://www.libtorrent.org/"
      ]
    },
    {
      "cell_type": "code",
      "metadata": {
        "id": "m6hF0emftx4h",
        "outputId": "fdc688b5-19dd-4d49-f519-2656593dd9a4",
        "colab": {
          "base_uri": "https://localhost:8080/"
        }
      },
      "source": [
        "!python -m pip install --upgrade pip setuptools wheel\n",
        "!python -m pip install lbry-libtorrent\n",
        "!apt install python3-libtorrent"
      ],
      "execution_count": 3,
      "outputs": [
        {
          "output_type": "stream",
          "name": "stdout",
          "text": [
            "Requirement already satisfied: pip in /usr/local/lib/python3.11/dist-packages (25.1.1)\n",
            "Requirement already satisfied: setuptools in /usr/local/lib/python3.11/dist-packages (80.9.0)\n",
            "Requirement already satisfied: wheel in /usr/local/lib/python3.11/dist-packages (0.45.1)\n",
            "\u001b[33mWARNING: Error parsing dependencies of libtorrent: Invalid version: '2.0.5-build-libtorrent-rasterbar-qrM5vM-libtorrent-rasterbar-2.0.5-bindings-python'\u001b[0m\u001b[33m\n",
            "\u001b[0mRequirement already satisfied: lbry-libtorrent in /usr/local/lib/python3.11/dist-packages (1.2.4)\n",
            "\u001b[33mWARNING: Error parsing dependencies of libtorrent: Invalid version: '2.0.5-build-libtorrent-rasterbar-qrM5vM-libtorrent-rasterbar-2.0.5-bindings-python'\u001b[0m\u001b[33m\n",
            "Reading package lists... Done\n",
            "Building dependency tree... Done\n",
            "Reading state information... Done\n",
            "python3-libtorrent is already the newest version (2.0.5-5).\n",
            "0 upgraded, 0 newly installed, 0 to remove and 40 not upgraded.\n"
          ]
        }
      ]
    },
    {
      "cell_type": "code",
      "source": [
        "import libtorrent as lt\n",
        "import time\n",
        "import datetime\n",
        "import os\n",
        "\n",
        "# Path to your .torrent file\n",
        "torrent_file = \"/content/drive/My Drive/films/torrent_file/FinalD.torrent\"\n",
        "\n",
        "# Step 1: Validate the torrent file\n",
        "if not os.path.exists(torrent_file):\n",
        "    print(\"Error: Torrent file not found.\")\n",
        "    exit(1)\n",
        "\n",
        "try:\n",
        "    info = lt.torrent_info(torrent_file)\n",
        "    print(\"Torrent loaded successfully!\")\n",
        "    print(\"Torrent name:\", info.name())\n",
        "    print(\"Files in torrent:\")\n",
        "    for f in info.files():\n",
        "        print(\" -\", f.path, \"(\", f.size, \"bytes )\")\n",
        "except Exception as e:\n",
        "    print(\"Failed to load torrent:\", e)\n",
        "    exit(1)\n",
        "\n",
        "# Step 2: Set up the session\n",
        "ses = lt.session()\n",
        "ses.listen_on(6881, 6891)\n",
        "\n",
        "# Add DHT routers for better peer discovery\n",
        "ses.start_dht()\n",
        "ses.add_dht_router(\"router.bittorrent.com\", 6881)\n",
        "ses.add_dht_router(\"router.utorrent.com\", 6881)\n",
        "ses.add_dht_router(\"dht.transmissionbt.com\", 6881)\n",
        "\n",
        "# Optional extensions for better compatibility\n",
        "ses.add_extension('ut_metadata')\n",
        "ses.add_extension('ut_pex')\n",
        "\n",
        "# Step 3: Torrent parameters\n",
        "params = {\n",
        "    'save_path': '/content/drive/My Drive/films/',\n",
        "    'storage_mode': lt.storage_mode_t.storage_mode_sparse,\n",
        "    'ti': info,\n",
        "}\n",
        "\n",
        "# Step 4: Add torrent to session\n",
        "handle = ses.add_torrent(params)\n",
        "print(f\"\\nStarting download of: {handle.name()}\")\n",
        "begin = time.time()\n",
        "print(\"Download started at:\", datetime.datetime.now())\n",
        "\n",
        "# Monitor the download\n",
        "state_str = [\n",
        "    'queued', 'checking', 'downloading metadata',\n",
        "    'downloading', 'finished', 'seeding', 'allocating'\n",
        "]\n",
        "\n",
        "while not handle.status().is_seeding:\n",
        "    s = handle.status()\n",
        "    state_index = s.state\n",
        "    state_label = state_str[state_index] if 0 <= state_index < len(state_str) else 'unknown'\n",
        "\n",
        "    print('%.2f%% complete (down: %.1f kB/s up: %.1f kB/s peers: %d) %s' %\n",
        "          (s.progress * 100, s.download_rate / 1000, s.upload_rate / 1000,\n",
        "           s.num_peers, state_label))\n",
        "    time.sleep(5)\n",
        "\n",
        "# Completion summary\n",
        "end = time.time()\n",
        "print(\"\\nDownload complete:\", handle.name())\n",
        "print(\"Elapsed Time: \", int((end - begin) // 60), \"min :\", int((end - begin) % 60), \"sec\")\n",
        "print(\"Completed at:\", datetime.datetime.now())\n"
      ],
      "metadata": {
        "id": "KdxAbrjRZ_Bg",
        "outputId": "2f89ab4b-98f6-43d9-bd30-e16c3390bd15",
        "colab": {
          "base_uri": "https://localhost:8080/"
        }
      },
      "execution_count": 14,
      "outputs": [
        {
          "output_type": "stream",
          "name": "stdout",
          "text": [
            "Torrent loaded successfully!\n",
            "Torrent name: Final Destination Bloodlines (2025) [720p] [WEBRip] [YTS.MX]\n",
            "Files in torrent:\n",
            " - Final Destination Bloodlines (2025) [720p] [WEBRip] [YTS.MX]/Final.Destination.Bloodlines.2025.720p.WEBRip.x264.AAC-[YTS.MX].mp4 ( 1057302518 bytes )\n",
            " - Final Destination Bloodlines (2025) [720p] [WEBRip] [YTS.MX]/Final.Destination.Bloodlines.2025.720p.WEBRip.x264.AAC-[YTS.MX].srt ( 96058 bytes )\n",
            " - Final Destination Bloodlines (2025) [720p] [WEBRip] [YTS.MX]/YTSYifyUP... (TOR).txt ( 604 bytes )\n",
            " - Final Destination Bloodlines (2025) [720p] [WEBRip] [YTS.MX]/www.YTS.MX.jpg ( 53226 bytes )\n",
            " - Final Destination Bloodlines (2025) [720p] [WEBRip] [YTS.MX]/Subs/English.srt ( 96058 bytes )\n",
            " - Final Destination Bloodlines (2025) [720p] [WEBRip] [YTS.MX]/Subs/kor.srt ( 85678 bytes )\n",
            "\n",
            "Starting download of: Final Destination Bloodlines (2025) [720p] [WEBRip] [YTS.MX]\n",
            "Download started at: 2025-06-20 04:11:40.308370\n",
            "0.00% complete (down: 0.0 kB/s up: 0.0 kB/s peers: 0) unknown\n",
            "71.32% complete (down: 0.0 kB/s up: 0.0 kB/s peers: 0) checking\n",
            "\n",
            "Download complete: Final Destination Bloodlines (2025) [720p] [WEBRip] [YTS.MX]\n",
            "Elapsed Time:  0 min : 10 sec\n",
            "Completed at: 2025-06-20 04:11:50.311248\n"
          ]
        }
      ]
    },
    {
      "cell_type": "markdown",
      "metadata": {
        "id": "tqKcWHZcYRIA"
      },
      "source": [
        "### Code to download torrent\n",
        "Variable **link** stores the link string."
      ]
    },
    {
      "cell_type": "code",
      "metadata": {
        "outputId": "8b5b4dc7-1e2a-45a2-a3b8-ede7ae1d359f",
        "id": "b09BxnANO2ep",
        "colab": {
          "base_uri": "https://localhost:8080/",
          "height": 384
        }
      },
      "source": [
        "import libtorrent as lt\n",
        "import time\n",
        "import datetime\n",
        "\n",
        "ses = lt.session()\n",
        "ses.listen_on(6881, 6891)\n",
        "params = {\n",
        "    'save_path': '/content/drive/My Drive/Torrent/',\n",
        "    'storage_mode': lt.storage_mode_t(2),\n",
        "    'paused': False,\n",
        "    'auto_managed': True,\n",
        "    'duplicate_is_error': True}\n",
        "link = \"https://yts.lt/torrent/download/866BDCFA006930A718ADBC21D8CAE1F2C7F9D8B3\" # PASTE TORRENT/MAGNET LINK HERE\n",
        "print(link)\n",
        "\n",
        "handle = lt.add_magnet_uri(ses, link, params)\n",
        "ses.start_dht()\n",
        "\n",
        "begin = time.time()\n",
        "print(datetime.datetime.now())\n",
        "\n",
        "print ('Downloading Metadata...')\n",
        "while (not handle.has_metadata()):\n",
        "    time.sleep(1)\n",
        "print ('Got Metadata, Starting Torrent Download...')\n",
        "\n",
        "print(\"Starting\", handle.name())\n",
        "\n",
        "while (handle.status().state != lt.torrent_status.seeding):\n",
        "    s = handle.status()\n",
        "    state_str = ['queued', 'checking', 'downloading metadata', \\\n",
        "            'downloading', 'finished', 'seeding', 'allocating']\n",
        "    print ('%.2f%% complete (down: %.1f kb/s up: %.1f kB/s peers: %d) %s ' % \\\n",
        "            (s.progress * 100, s.download_rate / 1000, s.upload_rate / 1000, \\\n",
        "            s.num_peers, state_str[s.state]))\n",
        "    time.sleep(5)\n",
        "\n",
        "end = time.time()\n",
        "print(handle.name(), \"COMPLETE\")\n",
        "\n",
        "print(\"Elapsed Time: \",int((end-begin)//60),\"min :\", int((end-begin)%60), \"sec\")\n",
        "\n",
        "print(datetime.datetime.now())"
      ],
      "execution_count": 8,
      "outputs": [
        {
          "output_type": "error",
          "ename": "ModuleNotFoundError",
          "evalue": "No module named 'libtorrent'",
          "traceback": [
            "\u001b[0;31m---------------------------------------------------------------------------\u001b[0m",
            "\u001b[0;31mModuleNotFoundError\u001b[0m                       Traceback (most recent call last)",
            "\u001b[0;32m/tmp/ipython-input-8-2306201695.py\u001b[0m in \u001b[0;36m<cell line: 0>\u001b[0;34m()\u001b[0m\n\u001b[0;32m----> 1\u001b[0;31m \u001b[0;32mimport\u001b[0m \u001b[0mlibtorrent\u001b[0m \u001b[0;32mas\u001b[0m \u001b[0mlt\u001b[0m\u001b[0;34m\u001b[0m\u001b[0;34m\u001b[0m\u001b[0m\n\u001b[0m\u001b[1;32m      2\u001b[0m \u001b[0;32mimport\u001b[0m \u001b[0mtime\u001b[0m\u001b[0;34m\u001b[0m\u001b[0;34m\u001b[0m\u001b[0m\n\u001b[1;32m      3\u001b[0m \u001b[0;32mimport\u001b[0m \u001b[0mdatetime\u001b[0m\u001b[0;34m\u001b[0m\u001b[0;34m\u001b[0m\u001b[0m\n\u001b[1;32m      4\u001b[0m \u001b[0;34m\u001b[0m\u001b[0m\n\u001b[1;32m      5\u001b[0m \u001b[0mses\u001b[0m \u001b[0;34m=\u001b[0m \u001b[0mlt\u001b[0m\u001b[0;34m.\u001b[0m\u001b[0msession\u001b[0m\u001b[0;34m(\u001b[0m\u001b[0;34m)\u001b[0m\u001b[0;34m\u001b[0m\u001b[0;34m\u001b[0m\u001b[0m\n",
            "\u001b[0;31mModuleNotFoundError\u001b[0m: No module named 'libtorrent'",
            "",
            "\u001b[0;31m---------------------------------------------------------------------------\u001b[0;32m\nNOTE: If your import is failing due to a missing package, you can\nmanually install dependencies using either !pip or !apt.\n\nTo view examples of installing some common dependencies, click the\n\"Open Examples\" button below.\n\u001b[0;31m---------------------------------------------------------------------------\u001b[0m\n"
          ],
          "errorDetails": {
            "actions": [
              {
                "action": "open_url",
                "actionText": "Open Examples",
                "url": "/notebooks/snippets/importing_libraries.ipynb"
              }
            ]
          }
        }
      ]
    }
  ]
}